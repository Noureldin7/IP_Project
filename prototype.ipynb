{
 "cells": [
  {
   "cell_type": "code",
   "execution_count": 382,
   "metadata": {},
   "outputs": [],
   "source": [
    "import numpy as np\n",
    "import os\n",
    "import cv2\n",
    "from glob import glob"
   ]
  },
  {
   "cell_type": "code",
   "execution_count": 383,
   "metadata": {},
   "outputs": [],
   "source": [
    "# Prepare results directory\n",
    "results_dir = \"./results\"\n",
    "for folder in glob(\"*\", root_dir=\"samples/\"):\n",
    "    os.makedirs(f\"{results_dir}/{folder}\", exist_ok=True)"
   ]
  },
  {
   "cell_type": "code",
   "execution_count": 384,
   "metadata": {},
   "outputs": [],
   "source": [
    "# Read images into original_imgs\n",
    "img_files = glob(\"*/*\", root_dir=\"samples/\", recursive=True)\n",
    "original_images = []\n",
    "for file in img_files:\n",
    "    img = cv2.imread(f\"samples/{file}\")\n",
    "    img = cv2.resize(img, (512, 512))\n",
    "    original_images.append(img)"
   ]
  },
  {
   "cell_type": "code",
   "execution_count": 385,
   "metadata": {},
   "outputs": [],
   "source": [
    "def wb(channel, perc = 5):\n",
    "    mi, ma = (np.percentile(channel, perc), np.percentile(channel,100.0-perc))\n",
    "    channel = np.uint8(np.clip((channel-mi)*255.0/(ma-mi+0.01), 0, 255))\n",
    "    return channel\n",
    "# Do Stuff\n",
    "result_imgs = []\n",
    "for img in original_images:\n",
    "    \n",
    "    # img = cv2.cvtColor(img, cv2.COLOR_BGR2YCrCb)\n",
    "    \n",
    "    # patches = []\n",
    "    # patch_size = 512\n",
    "    # for i in range(0, img.shape[0], patch_size):\n",
    "    #     for j in range(0, img.shape[1], patch_size):\n",
    "    #         patches.append(img[i:i+patch_size, j:j+patch_size])\n",
    "    \n",
    "    # for patch in patches:\n",
    "    #     patch[:,:,0] = cv2.createCLAHE(clipLimit=5.0, tileGridSize=(2,2)).apply(patch[:, :, 0])\n",
    "    #     # patch[:, :, 0] = cv2.equalizeHist(patch[:, :, 0])\n",
    "    #     # patch[:, :, 0] = wb(patch[:, :, 0])\n",
    "    #     # patch[:, :, 1] = wb(patch[:, :, 1])\n",
    "    #     # patch[:, :, 2] = wb(patch[:, :, 2])\n",
    "    # img = cv2.cvtColor(img, cv2.COLOR_YCrCb2BGR)\n",
    "    # img = cv2.medianBlur(img, 5)\n",
    "\n",
    "    #threshold\n",
    "    # img = cv2.GaussianBlur(img, (3,3), 10)\n",
    "    hsv = cv2.cvtColor(img, cv2.COLOR_BGR2YCrCb)\n",
    "    # hsv[:,:,0] = wb(hsv[:, :, 0])\n",
    "    hsv[:,:,1] = wb(hsv[:, :, 1])\n",
    "    hsv = cv2.cvtColor(hsv, cv2.COLOR_YCrCb2BGR)\n",
    "    hsv[np.argmax(hsv, axis=2) == 0] = 0\n",
    "    hsv[np.argmax(hsv, axis=2) == 1] = 0\n",
    "    hsv[np.argmax(hsv, axis=2) == 2] = 255\n",
    "    # hsv[:,:,2] = wb(hsv[:, :, 2])\n",
    "    # hsv[:, :, 0] = cv2.equalizeHist(hsv[:, :, 0])\n",
    "    # Define the color range for the hand in HSV\n",
    "    lower_color = np.array([0, 130, 75])\n",
    "    upper_color = np.array([200, 163, 150])\n",
    "\n",
    "    # Create a binary mask using color thresholding\n",
    "    color_mask = cv2.inRange(hsv, lower_color, upper_color)\n",
    "    color_mask = hsv\n",
    "\n",
    "    # # Convert the image to grayscale\n",
    "    # gray = cv2.cvtColor(img, cv2.COLOR_BGR2GRAY)\n",
    "\n",
    "    # # Apply GaussianBlur to the grayscale image\n",
    "    # blurred = cv2.GaussianBlur(gray, (5, 5), 7)\n",
    "\n",
    "    # # Apply adaptive thresholding to the grayscale image\n",
    "    # adaptive_threshold = cv2.adaptiveThreshold(\n",
    "    #     blurred,\n",
    "    #     255,  # Max pixel value after thresholding\n",
    "    #     cv2.ADAPTIVE_THRESH_MEAN_C,\n",
    "    #     cv2.THRESH_BINARY,\n",
    "    #     13,   # Block size\n",
    "    #     2    # Constant\n",
    "    # )\n",
    "\n",
    "    # Combine the color mask and adaptive threshold\n",
    "    # combined_mask = cv2.bitwise_and(color_mask, adaptive_threshold)\n",
    "    combined_mask = color_mask\n",
    "    # combined_mask = cv2.close\n",
    "    # combined_mask = cv2.Sobel(combined_mask, 3, ksize=7, dx=1, dy=1)\n",
    "    combined_mask = cv2.Canny(combined_mask, 3, 9, apertureSize=3)\n",
    "    # combined_mask = cv2.erode(combined_mask, np.ones((2, 2)))\n",
    "    # hsv = cv2.cvtColor(hsv, cv2.COLOR_YCrCb2BGR)\n",
    "    result_imgs.append(hsv)"
   ]
  },
  {
   "cell_type": "code",
   "execution_count": 386,
   "metadata": {},
   "outputs": [],
   "source": [
    "# Classifier"
   ]
  },
  {
   "cell_type": "code",
   "execution_count": 387,
   "metadata": {},
   "outputs": [],
   "source": [
    "# Save results\n",
    "i=0\n",
    "for img in result_imgs:\n",
    "    cv2.imwrite(f\"{results_dir}/{img_files[i]}\", img)\n",
    "    i+=1"
   ]
  }
 ],
 "metadata": {
  "kernelspec": {
   "display_name": "Python 3",
   "language": "python",
   "name": "python3"
  },
  "language_info": {
   "codemirror_mode": {
    "name": "ipython",
    "version": 3
   },
   "file_extension": ".py",
   "mimetype": "text/x-python",
   "name": "python",
   "nbconvert_exporter": "python",
   "pygments_lexer": "ipython3",
   "version": "3.10.7"
  }
 },
 "nbformat": 4,
 "nbformat_minor": 2
}
