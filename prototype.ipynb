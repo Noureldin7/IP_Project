{
 "cells": [
  {
   "cell_type": "code",
   "execution_count": 17,
   "metadata": {},
   "outputs": [],
   "source": [
    "import os\n",
    "import cv2\n",
    "from glob import glob"
   ]
  },
  {
   "cell_type": "code",
   "execution_count": 20,
   "metadata": {},
   "outputs": [],
   "source": [
    "# Prepare results directory\n",
    "results_dir = \"./results\"\n",
    "for folder in glob(\"*\", root_dir=\"samples/\"):\n",
    "    os.makedirs(f\"{results_dir}/{folder}\", exist_ok=True)\n",
    "\n",
    "# Read images into original_imgs\n",
    "img_files = glob(\"*/*\", root_dir=\"samples/\", recursive=True)\n",
    "original_images = []\n",
    "for file in img_files:\n",
    "    img = cv2.imread(f\"samples/{file}\")\n",
    "    original_images.append(img)\n",
    "\n",
    "# Do Stuff\n",
    "result_imgs = []\n",
    "for img in original_images:\n",
    "    result_imgs.append(cv2.cvtColor(img, cv2.COLOR_BGR2GRAY))\n",
    "\n",
    "# Save results\n",
    "i=0\n",
    "for img in result_imgs:\n",
    "    cv2.imwrite(f\"{results_dir}/{img_files[i]}\", img)\n",
    "    i+=1"
   ]
  }
 ],
 "metadata": {
  "kernelspec": {
   "display_name": "Python 3",
   "language": "python",
   "name": "python3"
  },
  "language_info": {
   "codemirror_mode": {
    "name": "ipython",
    "version": 3
   },
   "file_extension": ".py",
   "mimetype": "text/x-python",
   "name": "python",
   "nbconvert_exporter": "python",
   "pygments_lexer": "ipython3",
   "version": "3.10.7"
  }
 },
 "nbformat": 4,
 "nbformat_minor": 2
}
